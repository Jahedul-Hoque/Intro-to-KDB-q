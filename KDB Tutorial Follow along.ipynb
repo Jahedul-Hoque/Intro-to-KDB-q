{
 "cells": [
  {
   "cell_type": "code",
   "execution_count": 1,
   "id": "2752a320-01a4-48fd-a97e-64519ed41c40",
   "metadata": {},
   "outputs": [],
   "source": [
    "/The first collumn we make will be the dates collumn\n",
    "\n",
    "dates: 2018.01.01+1000000?31"
   ]
  },
  {
   "cell_type": "code",
   "execution_count": 2,
   "id": "0ef541fe-0f31-400c-940b-dd20a0697f98",
   "metadata": {},
   "outputs": [
    {
     "data": {
      "text/plain": [
       "1000000\n"
      ]
     },
     "execution_count": 2,
     "metadata": {},
     "output_type": "execute_result"
    }
   ],
   "source": [
    "count dates"
   ]
  },
  {
   "cell_type": "code",
   "execution_count": 3,
   "id": "18e97bda-de95-402d-95a5-733399977efa",
   "metadata": {},
   "outputs": [
    {
     "data": {
      "text/plain": [
       "19:57:43.649 08:15:36.665 00:31:48.900 21:38:21.927 20:36:50.220 22:11:19.731..\n"
      ]
     },
     "execution_count": 3,
     "metadata": {},
     "output_type": "execute_result"
    }
   ],
   "source": [
    "times: 1000000?24:00:00.0000\n",
    "times"
   ]
  },
  {
   "cell_type": "code",
   "execution_count": 21,
   "id": "75d27e89-6c9e-45a5-b4f9-faecd43a0c80",
   "metadata": {},
   "outputs": [
    {
     "data": {
      "text/plain": [
       "7900 9600 3900 3000 8100 3200 4400 6200 3500 700 3800 7500 9600 5400 500 200 ..\n"
      ]
     },
     "execution_count": 21,
     "metadata": {},
     "output_type": "execute_result"
    }
   ],
   "source": [
    "qtys:100*1+1000000?100\n",
    "qtys"
   ]
  },
  {
   "cell_type": "code",
   "execution_count": 22,
   "id": "f85732a3-266a-459c-bf50-a079af4e0e69",
   "metadata": {},
   "outputs": [
    {
     "data": {
      "text/plain": [
       "0 0 2 2 1 1 2 2 0 0 2 1 0 2 1 1 1 1 0 1 0 2 1 2 0 1 0 2 0 1 2 2 0 1 1 1 1 0 0..\n"
      ]
     },
     "execution_count": 50,
     "metadata": {},
     "output_type": "execute_result"
    }
   ],
   "source": [
    "idxs:1000000?3\n",
    "idxs"
   ]
  },
  {
   "cell_type": "code",
   "execution_count": 23,
   "id": "1635db2f-34ef-4787-8473-08fc7f743dad",
   "metadata": {},
   "outputs": [],
   "source": [
    "symbs:`Schonfeld`JPMorgan`Barclays idxs"
   ]
  },
  {
   "cell_type": "code",
   "execution_count": 24,
   "id": "2364a6a0-80c0-4477-b4db-ea7d0ebbfd85",
   "metadata": {},
   "outputs": [
    {
     "data": {
      "text/plain": [
       "`Schonfeld`Schonfeld`Barclays`Barclays`JPMorgan`JPMorgan`Barclays`Barclays`Sc..\n"
      ]
     },
     "execution_count": 52,
     "metadata": {},
     "output_type": "execute_result"
    }
   ],
   "source": [
    "symbs"
   ]
  },
  {
   "cell_type": "code",
   "execution_count": 79,
   "id": "816df1b4-f3e4-44fa-a508-86ae70efa192",
   "metadata": {},
   "outputs": [],
   "source": [
    "pxs:(1+1000000?0.3)* 430 230 120 idxs"
   ]
  },
  {
   "cell_type": "code",
   "execution_count": 80,
   "id": "4eead1e4-679e-44f0-85fc-fa66c273b98b",
   "metadata": {},
   "outputs": [
    {
     "data": {
      "text/plain": [
       "527.0028 462.1679 155.348 139.85 256.6268 261.3949 142.1859 127.7479 487.3649..\n"
      ]
     },
     "execution_count": 80,
     "metadata": {},
     "output_type": "execute_result"
    }
   ],
   "source": [
    "pxs"
   ]
  },
  {
   "cell_type": "code",
   "execution_count": 81,
   "id": "7a29913e-bddd-413a-ae68-2e9c496a0e54",
   "metadata": {},
   "outputs": [],
   "source": [
    "t:([] date:dates;time:times;symb:symbs;qty:qtys;px:pxs)"
   ]
  },
  {
   "cell_type": "code",
   "execution_count": 82,
   "id": "953ca578-9ba7-4899-a359-a4013ece62c8",
   "metadata": {},
   "outputs": [
    {
     "data": {
      "text/plain": [
       "date       time         symb      qty  px      \n",
       "-----------------------------------------------\n",
       "2018.01.10 19:57:43.649 Schonfeld 7900 527.0028\n",
       "2018.01.25 08:15:36.665 Schonfeld 9600 462.1679\n",
       "2018.01.26 00:31:48.900 Barclays  3900 155.348 \n",
       "2018.01.20 21:38:21.927 Barclays  3000 139.85  \n",
       "2018.01.06 20:36:50.220 JPMorgan  8100 256.6268\n",
       "2018.01.15 22:11:19.731 JPMorgan  3200 261.3949\n",
       "2018.01.07 15:50:47.837 Barclays  4400 142.1859\n",
       "2018.01.15 05:25:06.199 Barclays  6200 127.7479\n",
       "2018.01.02 14:45:57.137 Schonfeld 3500 487.3649\n",
       "2018.01.26 06:28:04.251 Schonfeld 700  526.8822\n",
       "2018.01.08 20:47:08.643 Barclays  3800 148.6447\n",
       "2018.01.05 05:02:14.346 JPMorgan  7500 236.5938\n",
       "2018.01.09 05:50:43.964 Schonfeld 9600 540.5109\n",
       "2018.01.04 04:21:49.401 Barclays  5400 151.6111\n",
       "2018.01.10 19:55:52.363 JPMorgan  500  251.1744\n",
       "2018.01.05 10:37:25.055 JPMorgan  200  240.6349\n",
       "2018.01.09 22:24:19.182 JPMorgan  900  241.6722\n",
       "2018.01.06 00:27:07.770 JPMorgan  1100 279.9315\n",
       "2018.01.16 19:54:04.239 Schonfeld 700  439.9159\n",
       "2018.01.04 17:27:16.560 JPMorgan  1600 284.5686\n",
       "..\n"
      ]
     },
     "execution_count": 82,
     "metadata": {},
     "output_type": "execute_result"
    }
   ],
   "source": [
    "t"
   ]
  },
  {
   "cell_type": "code",
   "execution_count": null,
   "id": "c028dcdd-21b7-49f0-9ebb-6c7e3a0589ba",
   "metadata": {},
   "outputs": [],
   "source": []
  }
 ],
 "metadata": {
  "kernelspec": {
   "display_name": "Q (kdb+)",
   "language": "q",
   "name": "qpk"
  },
  "language_info": {
   "file_extension": ".q",
   "mimetype": "text/x-q",
   "name": "q",
   "version": "4.1.0"
  }
 },
 "nbformat": 4,
 "nbformat_minor": 5
}
