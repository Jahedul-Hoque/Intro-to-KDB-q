{
 "cells": [
  {
   "cell_type": "code",
   "execution_count": 1,
   "id": "2752a320-01a4-48fd-a97e-64519ed41c40",
   "metadata": {},
   "outputs": [],
   "source": [
    "/The first collumn we make will be the dates collumn\n",
    "\n",
    "dates: 2018.01.01+1000000?31"
   ]
  },
  {
   "cell_type": "code",
   "execution_count": 2,
   "id": "0ef541fe-0f31-400c-940b-dd20a0697f98",
   "metadata": {},
   "outputs": [
    {
     "data": {
      "text/plain": [
       "1000000\n"
      ]
     },
     "execution_count": 2,
     "metadata": {},
     "output_type": "execute_result"
    }
   ],
   "source": [
    "count dates"
   ]
  },
  {
   "cell_type": "code",
   "execution_count": null,
   "id": "18e97bda-de95-402d-95a5-733399977efa",
   "metadata": {},
   "outputs": [],
   "source": []
  }
 ],
 "metadata": {
  "kernelspec": {
   "display_name": "Q (kdb+)",
   "language": "q",
   "name": "qpk"
  },
  "language_info": {
   "file_extension": ".q",
   "mimetype": "text/x-q",
   "name": "q",
   "version": "4.1.0"
  }
 },
 "nbformat": 4,
 "nbformat_minor": 5
}
