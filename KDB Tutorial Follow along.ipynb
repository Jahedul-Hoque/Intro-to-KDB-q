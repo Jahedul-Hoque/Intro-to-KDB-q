{
 "cells": [
  {
   "cell_type": "code",
   "execution_count": 1,
   "id": "2752a320-01a4-48fd-a97e-64519ed41c40",
   "metadata": {},
   "outputs": [],
   "source": [
    "/The first collumn we make will be the dates collumn\n",
    "\n",
    "dates: 2018.01.01+1000000?31"
   ]
  },
  {
   "cell_type": "code",
   "execution_count": 2,
   "id": "0ef541fe-0f31-400c-940b-dd20a0697f98",
   "metadata": {},
   "outputs": [
    {
     "data": {
      "text/plain": [
       "1000000\n"
      ]
     },
     "execution_count": 2,
     "metadata": {},
     "output_type": "execute_result"
    }
   ],
   "source": [
    "count dates"
   ]
  },
  {
   "cell_type": "code",
   "execution_count": 3,
   "id": "18e97bda-de95-402d-95a5-733399977efa",
   "metadata": {},
   "outputs": [
    {
     "data": {
      "text/plain": [
       "19:57:43.649 08:15:36.665 00:31:48.900 21:38:21.927 20:36:50.220 22:11:19.731..\n"
      ]
     },
     "execution_count": 3,
     "metadata": {},
     "output_type": "execute_result"
    }
   ],
   "source": [
    "times: 1000000?24:00:00.0000\n",
    "times"
   ]
  },
  {
   "cell_type": "code",
   "execution_count": 4,
   "id": "75d27e89-6c9e-45a5-b4f9-faecd43a0c80",
   "metadata": {},
   "outputs": [
    {
     "data": {
      "text/plain": [
       "6600 5500 4500 6700 3300 7700 4300 2400 10000 200 4400 6700 1700 200 9200 620..\n"
      ]
     },
     "execution_count": 4,
     "metadata": {},
     "output_type": "execute_result"
    }
   ],
   "source": [
    "qtys:100*1+1000000?100\n",
    "qtys"
   ]
  },
  {
   "cell_type": "code",
   "execution_count": null,
   "id": "f85732a3-266a-459c-bf50-a079af4e0e69",
   "metadata": {},
   "outputs": [],
   "source": []
  }
 ],
 "metadata": {
  "kernelspec": {
   "display_name": "Q (kdb+)",
   "language": "q",
   "name": "qpk"
  },
  "language_info": {
   "file_extension": ".q",
   "mimetype": "text/x-q",
   "name": "q",
   "version": "4.1.0"
  }
 },
 "nbformat": 4,
 "nbformat_minor": 5
}
