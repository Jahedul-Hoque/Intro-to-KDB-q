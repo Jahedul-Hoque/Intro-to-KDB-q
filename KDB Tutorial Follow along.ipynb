{
 "cells": [
  {
   "cell_type": "code",
   "execution_count": 1,
   "id": "2752a320-01a4-48fd-a97e-64519ed41c40",
   "metadata": {},
   "outputs": [],
   "source": [
    "/The first collumn we make will be the dates collumn\n",
    "\n",
    "dates: 2018.01.01+1000000?31"
   ]
  },
  {
   "cell_type": "code",
   "execution_count": 2,
   "id": "0ef541fe-0f31-400c-940b-dd20a0697f98",
   "metadata": {},
   "outputs": [
    {
     "data": {
      "text/plain": [
       "1000000\n"
      ]
     },
     "execution_count": 2,
     "metadata": {},
     "output_type": "execute_result"
    }
   ],
   "source": [
    "count dates"
   ]
  },
  {
   "cell_type": "code",
   "execution_count": 3,
   "id": "18e97bda-de95-402d-95a5-733399977efa",
   "metadata": {},
   "outputs": [
    {
     "data": {
      "text/plain": [
       "19:57:43.649 08:15:36.665 00:31:48.900 21:38:21.927 20:36:50.220 22:11:19.731..\n"
      ]
     },
     "execution_count": 3,
     "metadata": {},
     "output_type": "execute_result"
    }
   ],
   "source": [
    "times: 1000000?24:00:00.0000\n",
    "times"
   ]
  },
  {
   "cell_type": "code",
   "execution_count": 21,
   "id": "75d27e89-6c9e-45a5-b4f9-faecd43a0c80",
   "metadata": {},
   "outputs": [
    {
     "data": {
      "text/plain": [
       "7900 9600 3900 3000 8100 3200 4400 6200 3500 700 3800 7500 9600 5400 500 200 ..\n"
      ]
     },
     "execution_count": 21,
     "metadata": {},
     "output_type": "execute_result"
    }
   ],
   "source": [
    "qtys:100*1+1000000?100\n",
    "qtys"
   ]
  },
  {
   "cell_type": "code",
   "execution_count": 22,
   "id": "f85732a3-266a-459c-bf50-a079af4e0e69",
   "metadata": {},
   "outputs": [
    {
     "data": {
      "text/plain": [
       "0 0 2 2 1 1 2 2 0 0 2 1 0 2 1 1 1 1 0 1 0 2 1 2 0 1 0 2 0 1 2 2 0 1 1 1 1 0 0..\n"
      ]
     },
     "execution_count": 50,
     "metadata": {},
     "output_type": "execute_result"
    }
   ],
   "source": [
    "idxs:1000000?3\n",
    "idxs"
   ]
  },
  {
   "cell_type": "code",
   "execution_count": 23,
   "id": "1635db2f-34ef-4787-8473-08fc7f743dad",
   "metadata": {},
   "outputs": [],
   "source": [
    "symbs:`Schonfeld`JPMorgan`Barclays idxs"
   ]
  },
  {
   "cell_type": "code",
   "execution_count": 24,
   "id": "2364a6a0-80c0-4477-b4db-ea7d0ebbfd85",
   "metadata": {},
   "outputs": [
    {
     "data": {
      "text/plain": [
       "`Schonfeld`Schonfeld`Barclays`Barclays`JPMorgan`JPMorgan`Barclays`Barclays`Sc..\n"
      ]
     },
     "execution_count": 52,
     "metadata": {},
     "output_type": "execute_result"
    }
   ],
   "source": [
    "symbs"
   ]
  },
  {
   "cell_type": "code",
   "execution_count": 73,
   "id": "816df1b4-f3e4-44fa-a508-86ae70efa192",
   "metadata": {},
   "outputs": [],
   "source": [
    "pxs:(1+1000000?.02)* 430 230 120 idxs"
   ]
  },
  {
   "cell_type": "code",
   "execution_count": 74,
   "id": "4eead1e4-679e-44f0-85fc-fa66c273b98b",
   "metadata": {},
   "outputs": [
    {
     "data": {
      "text/plain": [
       "432.0658 433.8257 120.9748 122.3003 233.4177 233.6969 120.2795 121.6348 430.1..\n"
      ]
     },
     "execution_count": 74,
     "metadata": {},
     "output_type": "execute_result"
    }
   ],
   "source": [
    "pxs"
   ]
  },
  {
   "cell_type": "code",
   "execution_count": null,
   "id": "7a29913e-bddd-413a-ae68-2e9c496a0e54",
   "metadata": {},
   "outputs": [],
   "source": []
  }
 ],
 "metadata": {
  "kernelspec": {
   "display_name": "Q (kdb+)",
   "language": "q",
   "name": "qpk"
  },
  "language_info": {
   "file_extension": ".q",
   "mimetype": "text/x-q",
   "name": "q",
   "version": "4.1.0"
  }
 },
 "nbformat": 4,
 "nbformat_minor": 5
}
