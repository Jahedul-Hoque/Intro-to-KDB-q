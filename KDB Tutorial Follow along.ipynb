{
 "cells": [
  {
   "cell_type": "code",
   "execution_count": 1,
   "id": "2752a320-01a4-48fd-a97e-64519ed41c40",
   "metadata": {},
   "outputs": [],
   "source": [
    "/The first collumn we make will be the dates collumn\n",
    "\n",
    "dates: 2018.01.01+1000000?31"
   ]
  },
  {
   "cell_type": "code",
   "execution_count": 89,
   "id": "0ef541fe-0f31-400c-940b-dd20a0697f98",
   "metadata": {},
   "outputs": [
    {
     "data": {
      "text/plain": [
       "1000000\n"
      ]
     },
     "execution_count": 89,
     "metadata": {},
     "output_type": "execute_result"
    }
   ],
   "source": [
    "/this counts all the dates in my table\n",
    "count dates"
   ]
  },
  {
   "cell_type": "code",
   "execution_count": 90,
   "id": "18e97bda-de95-402d-95a5-733399977efa",
   "metadata": {},
   "outputs": [
    {
     "data": {
      "text/plain": [
       "07:01:22.081 15:23:00.268 23:37:52.939 23:22:00.053 08:19:56.041 10:37:05.202..\n"
      ]
     },
     "execution_count": 90,
     "metadata": {},
     "output_type": "execute_result"
    }
   ],
   "source": [
    "/this will create a collumn that will hold 1 million values in a time variable\n",
    "times: 1000000?24:00:00.0000\n",
    "times"
   ]
  },
  {
   "cell_type": "code",
   "execution_count": 91,
   "id": "75d27e89-6c9e-45a5-b4f9-faecd43a0c80",
   "metadata": {},
   "outputs": [
    {
     "data": {
      "text/plain": [
       "3600 9300 5400 7800 6300 1900 8600 3100 7100 2600 8600 6500 600 5900 6900 760..\n"
      ]
     },
     "execution_count": 91,
     "metadata": {},
     "output_type": "execute_result"
    }
   ],
   "source": [
    "/this will create a variable called quantities that will store 1 million random numbers that are multiples of 100 starting from 100\n",
    "qtys:100*1+1000000?100\n",
    "qtys"
   ]
  },
  {
   "cell_type": "code",
   "execution_count": 93,
   "id": "f85732a3-266a-459c-bf50-a079af4e0e69",
   "metadata": {},
   "outputs": [
    {
     "data": {
      "text/plain": [
       "2 0 2 1 1 1 1 0 1 2 2 2 0 1 2 0 2 1 2 1 0 1 2 2 2 1 0 2 0 2 0 2 2 0 0 0 2 2 1..\n"
      ]
     },
     "execution_count": 93,
     "metadata": {},
     "output_type": "execute_result"
    }
   ],
   "source": [
    "/this will create a variable called indecies that will hold random 1 million values between 0 and 2 inclusive\n",
    "idxs:1000000?3\n",
    "idxs"
   ]
  },
  {
   "cell_type": "code",
   "execution_count": 94,
   "id": "1635db2f-34ef-4787-8473-08fc7f743dad",
   "metadata": {},
   "outputs": [],
   "source": [
    "/using the indecies variable, the variable symbols will store the 3 elements listed below in the order of the indecies\n",
    "symbs:`Schonfeld`JPMorgan`Barclays idxs"
   ]
  },
  {
   "cell_type": "code",
   "execution_count": 24,
   "id": "2364a6a0-80c0-4477-b4db-ea7d0ebbfd85",
   "metadata": {},
   "outputs": [
    {
     "data": {
      "text/plain": [
       "`Schonfeld`Schonfeld`Barclays`Barclays`JPMorgan`JPMorgan`Barclays`Barclays`Sc..\n"
      ]
     },
     "execution_count": 52,
     "metadata": {},
     "output_type": "execute_result"
    }
   ],
   "source": [
    "symbs"
   ]
  },
  {
   "cell_type": "code",
   "execution_count": 96,
   "id": "816df1b4-f3e4-44fa-a508-86ae70efa192",
   "metadata": {},
   "outputs": [],
   "source": [
    "/this will create a price variable that will attach values to the indecies previously given\n",
    "pxs:(1+1000000?0.3)* 430 230 120 idxs"
   ]
  },
  {
   "cell_type": "code",
   "execution_count": 80,
   "id": "4eead1e4-679e-44f0-85fc-fa66c273b98b",
   "metadata": {},
   "outputs": [
    {
     "data": {
      "text/plain": [
       "527.0028 462.1679 155.348 139.85 256.6268 261.3949 142.1859 127.7479 487.3649..\n"
      ]
     },
     "execution_count": 80,
     "metadata": {},
     "output_type": "execute_result"
    }
   ],
   "source": [
    "pxs"
   ]
  },
  {
   "cell_type": "code",
   "execution_count": 97,
   "id": "7a29913e-bddd-413a-ae68-2e9c496a0e54",
   "metadata": {},
   "outputs": [],
   "source": [
    "/this will construct the table with the previous variables that have been initialised\n",
    "t:([] date:dates;time:times;symb:symbs;qty:qtys;px:pxs)"
   ]
  },
  {
   "cell_type": "code",
   "execution_count": 82,
   "id": "953ca578-9ba7-4899-a359-a4013ece62c8",
   "metadata": {},
   "outputs": [
    {
     "data": {
      "text/plain": [
       "date       time         symb      qty  px      \n",
       "-----------------------------------------------\n",
       "2018.01.10 19:57:43.649 Schonfeld 7900 527.0028\n",
       "2018.01.25 08:15:36.665 Schonfeld 9600 462.1679\n",
       "2018.01.26 00:31:48.900 Barclays  3900 155.348 \n",
       "2018.01.20 21:38:21.927 Barclays  3000 139.85  \n",
       "2018.01.06 20:36:50.220 JPMorgan  8100 256.6268\n",
       "2018.01.15 22:11:19.731 JPMorgan  3200 261.3949\n",
       "2018.01.07 15:50:47.837 Barclays  4400 142.1859\n",
       "2018.01.15 05:25:06.199 Barclays  6200 127.7479\n",
       "2018.01.02 14:45:57.137 Schonfeld 3500 487.3649\n",
       "2018.01.26 06:28:04.251 Schonfeld 700  526.8822\n",
       "2018.01.08 20:47:08.643 Barclays  3800 148.6447\n",
       "2018.01.05 05:02:14.346 JPMorgan  7500 236.5938\n",
       "2018.01.09 05:50:43.964 Schonfeld 9600 540.5109\n",
       "2018.01.04 04:21:49.401 Barclays  5400 151.6111\n",
       "2018.01.10 19:55:52.363 JPMorgan  500  251.1744\n",
       "2018.01.05 10:37:25.055 JPMorgan  200  240.6349\n",
       "2018.01.09 22:24:19.182 JPMorgan  900  241.6722\n",
       "2018.01.06 00:27:07.770 JPMorgan  1100 279.9315\n",
       "2018.01.16 19:54:04.239 Schonfeld 700  439.9159\n",
       "2018.01.04 17:27:16.560 JPMorgan  1600 284.5686\n",
       "..\n"
      ]
     },
     "execution_count": 82,
     "metadata": {},
     "output_type": "execute_result"
    }
   ],
   "source": [
    "t"
   ]
  },
  {
   "cell_type": "code",
   "execution_count": 98,
   "id": "c028dcdd-21b7-49f0-9ebb-6c7e3a0589ba",
   "metadata": {},
   "outputs": [],
   "source": [
    "/this will print the table where time and date are ordered (time inside date)\n",
    "t:`date`time xasc t"
   ]
  },
  {
   "cell_type": "code",
   "execution_count": 84,
   "id": "da321dfa-4d87-4e49-8ede-89272a7549f3",
   "metadata": {},
   "outputs": [
    {
     "data": {
      "text/plain": [
       "date       time         symb      qty  px      \n",
       "-----------------------------------------------\n",
       "2018.01.01 00:00:05.227 Schonfeld 3300 505.0796\n",
       "2018.01.01 00:00:07.136 JPMorgan  6900 270.9795\n",
       "2018.01.01 00:00:08.200 JPMorgan  2200 256.4991\n",
       "2018.01.01 00:00:16.846 Barclays  300  131.2755\n",
       "2018.01.01 00:00:23.697 Schonfeld 4500 506.6416\n",
       "2018.01.01 00:00:33.120 Barclays  6600 125.4023\n",
       "2018.01.01 00:00:35.640 JPMorgan  7700 242.5132\n",
       "2018.01.01 00:00:38.459 JPMorgan  7100 240.3508\n",
       "2018.01.01 00:00:38.906 JPMorgan  6400 231.8265\n",
       "2018.01.01 00:00:39.982 Schonfeld 6900 494.387 \n",
       "2018.01.01 00:00:41.775 Barclays  3600 151.0706\n",
       "2018.01.01 00:00:44.185 Schonfeld 6100 548.5217\n",
       "2018.01.01 00:00:49.859 Schonfeld 2100 463.616 \n",
       "2018.01.01 00:00:50.847 Barclays  4500 150.1267\n",
       "2018.01.01 00:00:53.396 Barclays  5300 123.2618\n",
       "2018.01.01 00:00:53.919 Barclays  6400 134.7235\n",
       "2018.01.01 00:00:56.149 Schonfeld 2700 445.494 \n",
       "2018.01.01 00:00:57.381 JPMorgan  3700 268.4104\n",
       "2018.01.01 00:01:04.472 Schonfeld 3300 509.3575\n",
       "2018.01.01 00:01:06.507 Schonfeld 7800 520.4908\n",
       "..\n"
      ]
     },
     "execution_count": 84,
     "metadata": {},
     "output_type": "execute_result"
    }
   ],
   "source": [
    "t"
   ]
  },
  {
   "cell_type": "code",
   "execution_count": 99,
   "id": "15d77e1a-ee00-4970-b8d5-4556646a6987",
   "metadata": {},
   "outputs": [
    {
     "data": {
      "text/plain": [
       "date       time         symb      qty  px      \n",
       "-----------------------------------------------\n",
       "2018.01.01 00:00:02.824 Barclays  5900 129.1832\n",
       "2018.01.01 00:00:08.850 JPMorgan  7100 293.1494\n",
       "2018.01.01 00:00:09.438 Schonfeld 4000 467.7574\n",
       "2018.01.01 00:00:12.088 Schonfeld 8700 499.0621\n",
       "2018.01.01 00:00:14.416 Schonfeld 1600 533.4486\n"
      ]
     },
     "execution_count": 99,
     "metadata": {},
     "output_type": "execute_result"
    }
   ],
   "source": [
    "/this will print the first 5 rows of the table\n",
    "5#t"
   ]
  },
  {
   "cell_type": "code",
   "execution_count": 86,
   "id": "84036ead-1f1a-4c3e-9e9f-ce8708d051e8",
   "metadata": {},
   "outputs": [
    {
     "data": {
      "text/plain": [
       "date       time         symb      px      \n",
       "------------------------------------------\n",
       "2018.01.01 00:00:05.227 Schonfeld 505.0796\n",
       "2018.01.01 00:00:07.136 JPMorgan  270.9795\n",
       "2018.01.01 00:00:08.200 JPMorgan  256.4991\n",
       "2018.01.01 00:00:16.846 Barclays  131.2755\n",
       "2018.01.01 00:00:23.697 Schonfeld 506.6416\n",
       "2018.01.01 00:00:33.120 Barclays  125.4023\n",
       "2018.01.01 00:00:35.640 JPMorgan  242.5132\n",
       "2018.01.01 00:00:38.459 JPMorgan  240.3508\n",
       "2018.01.01 00:00:38.906 JPMorgan  231.8265\n",
       "2018.01.01 00:00:39.982 Schonfeld 494.387 \n",
       "2018.01.01 00:00:41.775 Barclays  151.0706\n",
       "2018.01.01 00:00:44.185 Schonfeld 548.5217\n",
       "2018.01.01 00:00:49.859 Schonfeld 463.616 \n",
       "2018.01.01 00:00:50.847 Barclays  150.1267\n",
       "2018.01.01 00:00:53.396 Barclays  123.2618\n",
       "2018.01.01 00:00:53.919 Barclays  134.7235\n",
       "2018.01.01 00:00:56.149 Schonfeld 445.494 \n",
       "2018.01.01 00:00:57.381 JPMorgan  268.4104\n",
       "2018.01.01 00:01:04.472 Schonfeld 509.3575\n",
       "2018.01.01 00:01:06.507 Schonfeld 520.4908\n",
       "..\n"
      ]
     },
     "execution_count": 86,
     "metadata": {},
     "output_type": "execute_result"
    }
   ],
   "source": [
    "select date, time, symb, px from t"
   ]
  },
  {
   "cell_type": "code",
   "execution_count": 101,
   "id": "ea15d3b8-a1ce-4854-8d39-4c047ec10b1d",
   "metadata": {},
   "outputs": [
    {
     "data": {
      "text/plain": [
       "c   | t f a\n",
       "----| -----\n",
       "date| d   s\n",
       "time| t    \n",
       "symb| s    \n",
       "qty | j    \n",
       "px  | f    \n"
      ]
     },
     "execution_count": 101,
     "metadata": {},
     "output_type": "execute_result"
    }
   ],
   "source": [
    "/this will print the schema of the table\n",
    "meta t"
   ]
  },
  {
   "cell_type": "code",
   "execution_count": 102,
   "id": "3b62f4d0-e784-4756-9e02-281ea1a9de7d",
   "metadata": {},
   "outputs": [
    {
     "data": {
      "text/plain": [
       "date       time         qty  px      \n",
       "-------------------------------------\n",
       "2018.01.01 00:00:09.438 4000 467.7574\n",
       "2018.01.01 00:00:12.088 8700 499.0621\n",
       "2018.01.01 00:00:14.416 1600 533.4486\n",
       "2018.01.01 00:00:26.742 7800 464.8746\n",
       "2018.01.01 00:00:35.642 4500 511.2477\n",
       "2018.01.01 00:00:39.707 4100 492.2924\n",
       "2018.01.01 00:00:50.339 3500 455.9788\n",
       "2018.01.01 00:00:51.779 5900 516.3527\n",
       "2018.01.01 00:00:56.853 9800 528.1093\n",
       "2018.01.01 00:01:05.251 6400 547.0947\n",
       "2018.01.01 00:01:13.315 8400 551.4501\n",
       "2018.01.01 00:01:23.560 6100 519.5173\n",
       "2018.01.01 00:01:27.407 5800 518.5333\n",
       "2018.01.01 00:01:30.793 3400 431.6144\n",
       "2018.01.01 00:01:34.462 4700 541.4484\n",
       "2018.01.01 00:01:42.092 9500 509.7196\n",
       "2018.01.01 00:01:44.127 3600 458.7331\n",
       "2018.01.01 00:01:44.336 3200 442.4115\n",
       "2018.01.01 00:01:47.956 600  446.9014\n",
       "2018.01.01 00:01:50.295 8200 499.6826\n",
       "..\n"
      ]
     },
     "execution_count": 102,
     "metadata": {},
     "output_type": "execute_result"
    }
   ],
   "source": [
    "/this will select parts of the table using the \"where\" clause\n",
    "select date,time,qty,px from t where symb=`Schonfeld"
   ]
  },
  {
   "cell_type": "code",
   "execution_count": null,
   "id": "bfd33b24-7df8-466f-bf08-ac029765e7d6",
   "metadata": {},
   "outputs": [],
   "source": []
  }
 ],
 "metadata": {
  "kernelspec": {
   "display_name": "Q (kdb+)",
   "language": "q",
   "name": "qpk"
  },
  "language_info": {
   "file_extension": ".q",
   "mimetype": "text/x-q",
   "name": "q",
   "version": "4.1.0"
  }
 },
 "nbformat": 4,
 "nbformat_minor": 5
}
